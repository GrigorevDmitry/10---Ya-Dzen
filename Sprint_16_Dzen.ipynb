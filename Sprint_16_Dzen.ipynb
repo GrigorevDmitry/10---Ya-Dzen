{
 "cells": [
  {
   "cell_type": "markdown",
   "id": "24c2cf2a",
   "metadata": {},
   "source": [
    "# Дашборд для Яндекс.Дзен"
   ]
  },
  {
   "cell_type": "markdown",
   "id": "1c2b090d",
   "metadata": {},
   "source": [
    "### Описание проекта\n",
    "\n",
    "Вы работаете аналитиком в Яндекс.Дзене. Почти всё ваше время занимает анализ пользовательского взаимодействия с карточками статей.\n",
    "\n",
    "Каждую карточку определяют её тема и источник (у него тоже есть тема). Примеры тем: «Красота и здоровье», «Россия», «Путешествия». А пользователей системы характеризует возрастная категория.\n",
    "\n",
    "Есть три способа взаимодействия пользователей с системой:\n",
    "\n",
    "    Карточка отображена для пользователя (show);\n",
    "    Пользователь кликнул на карточку (click);\n",
    "    Пользователь просмотрел статью карточки (view).\n",
    "    Каждую неделю начинающие менеджеры Денис и Валерия задают вам одни и те же вопросы:\n",
    "\n",
    "    Сколько взаимодействий пользователей с карточками происходит в системе с разбивкой по темам карточек?\n",
    "    Как много карточек генерируют источники с разными темами?\n",
    "    Как соотносятся темы карточек и темы источников?\n",
    "\n",
    "На шестую неделю работы вы решаете, что процесс пора автоматизировать. Для Дениса и Валерии нужно сделать дашборд.\n",
    "\n",
    "Дашборд будет основываться на пайплайне, который будет брать данные из таблицы, в которых хранятся сырые данные, трансформировать данные и укладывать их в агрегирующую таблицу. Пайплайн будет разработан для вас дата-инженерами.\n",
    "Краткое ТЗ для создания дашборда:\n",
    "\n",
    "*Бизнес-задача: анализ взаимодействия пользователей с карточками Яндекс.Дзен; Насколько часто предполагается пользоваться дашбордом: не реже, чем раз в неделю; Кто будет основным пользователем дашборда*: менеджеры по анализу контента;\n",
    "\n",
    "*Состав данных для дашборда:*\n",
    "\n",
    "    История событий по темам карточек (два графика - абсолютные числа и процентное соотношение);\n",
    "    Разбивка событий по темам источников;\n",
    "    Таблица соответствия тем источников темам карточек;\n",
    "\n",
    "*По каким параметрам данные должны группироваться:*\n",
    "\n",
    "    Дата и время;\n",
    "    Тема карточки;\n",
    "    Тема источника;\n",
    "    Возрастная группа;\n",
    "    Характер данных:\n",
    "\n",
    "История событий по темам карточек — абсолютные величины с разбивкой по минутам; Разбивка событий по темам источников — относительные величины (% событий); Соответствия тем источников темам карточек - абсолютные величины;\n",
    "\n",
    "*Важность:* все графики имеют равную важность; Источники данных для дашборда:\n",
    "\n",
    "Сырые данные о событиях взаимодействия пользователей с карточками (таблица dash_visits); База данных, в которой будут храниться агрегированные данные:\n",
    "\n",
    "Дополнительные агрегированные таблицы в БД zen;\n",
    "\n",
    "*Частота обновления данных:* Один раз в сутки, в полночь по UTC;\n",
    "Задачи проекта\n",
    "\n",
    "    Получить данные из базы данных\n",
    "\n",
    "    Создать дашборд на основе полученных данных\n",
    "\n",
    "    Ответить на вопросы менеджеров в виде презентации:\n",
    "\n",
    "    Cколько взаимодействий пользователей с карточками происходит в системе с разбивкой по темам карточек?\n",
    "\n",
    "    Как много карточек генерируют источники с разными темами?\n",
    "\n",
    "    Как соотносятся темы карточек и темы источников?\n",
    "\n"
   ]
  },
  {
   "cell_type": "code",
   "execution_count": 1,
   "id": "577b588b",
   "metadata": {},
   "outputs": [],
   "source": [
    "# импорт библиотек\n",
    "import pandas as pd\n",
    "from sqlalchemy import create_engine\n",
    "from IPython.display import Image"
   ]
  },
  {
   "cell_type": "markdown",
   "id": "c818ffcf",
   "metadata": {},
   "source": [
    "*Макет дашборда:*"
   ]
  },
  {
   "cell_type": "code",
   "execution_count": 2,
   "id": "e984787f",
   "metadata": {},
   "outputs": [
    {
     "data": {
      "text/html": [
       "<img src=\"https://pictures.s3.yandex.net/resources/Untitled_-_2020-07-06T160925.436_1594041010.png\"/>"
      ],
      "text/plain": [
       "<IPython.core.display.Image object>"
      ]
     },
     "execution_count": 2,
     "metadata": {},
     "output_type": "execute_result"
    }
   ],
   "source": [
    "Image(url='https://pictures.s3.yandex.net/resources/Untitled_-_2020-07-06T160925.436_1594041010.png')"
   ]
  },
  {
   "cell_type": "code",
   "execution_count": 3,
   "id": "70be404d",
   "metadata": {},
   "outputs": [],
   "source": [
    "# подключение\n",
    "db_config = {'user': 'praktikum_student', # имя пользователя\n",
    "            'pwd': 'Sdf4$2;d-d30pp', # пароль\n",
    "            'host': 'rc1b-wcoijxj3yxfsf3fs.mdb.yandexcloud.net',\n",
    "            'port': 6432, # порт подключения\n",
    "            'db': 'data-analyst-zen-project-db'} # название базы данных\n",
    "\n",
    "connection_string = 'postgresql://{}:{}@{}:{}/{}'.format(db_config['user'],\n",
    "                                                db_config['pwd'],\n",
    "                                                db_config['host'],\n",
    "                                                db_config['port'],\n",
    "                                                db_config['db'])\n",
    "\n",
    "engine = create_engine(connection_string) "
   ]
  },
  {
   "cell_type": "code",
   "execution_count": 4,
   "id": "45b5b1e4",
   "metadata": {},
   "outputs": [],
   "source": [
    "query = '''\n",
    "           SELECT *\n",
    "           FROM dash_visits\n",
    "        '''\n",
    "dash_visits = pd.io.sql.read_sql(query, con=engine)"
   ]
  },
  {
   "cell_type": "code",
   "execution_count": 5,
   "id": "f362e55b",
   "metadata": {
    "scrolled": false
   },
   "outputs": [
    {
     "data": {
      "text/html": [
       "<div>\n",
       "<style scoped>\n",
       "    .dataframe tbody tr th:only-of-type {\n",
       "        vertical-align: middle;\n",
       "    }\n",
       "\n",
       "    .dataframe tbody tr th {\n",
       "        vertical-align: top;\n",
       "    }\n",
       "\n",
       "    .dataframe thead th {\n",
       "        text-align: right;\n",
       "    }\n",
       "</style>\n",
       "<table border=\"1\" class=\"dataframe\">\n",
       "  <thead>\n",
       "    <tr style=\"text-align: right;\">\n",
       "      <th></th>\n",
       "      <th>record_id</th>\n",
       "      <th>item_topic</th>\n",
       "      <th>source_topic</th>\n",
       "      <th>age_segment</th>\n",
       "      <th>dt</th>\n",
       "      <th>visits</th>\n",
       "    </tr>\n",
       "  </thead>\n",
       "  <tbody>\n",
       "    <tr>\n",
       "      <th>0</th>\n",
       "      <td>1040597</td>\n",
       "      <td>Деньги</td>\n",
       "      <td>Авто</td>\n",
       "      <td>18-25</td>\n",
       "      <td>2019-09-24 18:32:00</td>\n",
       "      <td>3</td>\n",
       "    </tr>\n",
       "    <tr>\n",
       "      <th>1</th>\n",
       "      <td>1040598</td>\n",
       "      <td>Деньги</td>\n",
       "      <td>Авто</td>\n",
       "      <td>18-25</td>\n",
       "      <td>2019-09-24 18:35:00</td>\n",
       "      <td>1</td>\n",
       "    </tr>\n",
       "    <tr>\n",
       "      <th>2</th>\n",
       "      <td>1040599</td>\n",
       "      <td>Деньги</td>\n",
       "      <td>Авто</td>\n",
       "      <td>18-25</td>\n",
       "      <td>2019-09-24 18:54:00</td>\n",
       "      <td>4</td>\n",
       "    </tr>\n",
       "    <tr>\n",
       "      <th>3</th>\n",
       "      <td>1040600</td>\n",
       "      <td>Деньги</td>\n",
       "      <td>Авто</td>\n",
       "      <td>18-25</td>\n",
       "      <td>2019-09-24 18:55:00</td>\n",
       "      <td>17</td>\n",
       "    </tr>\n",
       "    <tr>\n",
       "      <th>4</th>\n",
       "      <td>1040601</td>\n",
       "      <td>Деньги</td>\n",
       "      <td>Авто</td>\n",
       "      <td>18-25</td>\n",
       "      <td>2019-09-24 18:56:00</td>\n",
       "      <td>27</td>\n",
       "    </tr>\n",
       "  </tbody>\n",
       "</table>\n",
       "</div>"
      ],
      "text/plain": [
       "   record_id item_topic source_topic age_segment                  dt  visits\n",
       "0    1040597     Деньги         Авто       18-25 2019-09-24 18:32:00       3\n",
       "1    1040598     Деньги         Авто       18-25 2019-09-24 18:35:00       1\n",
       "2    1040599     Деньги         Авто       18-25 2019-09-24 18:54:00       4\n",
       "3    1040600     Деньги         Авто       18-25 2019-09-24 18:55:00      17\n",
       "4    1040601     Деньги         Авто       18-25 2019-09-24 18:56:00      27"
      ]
     },
     "execution_count": 5,
     "metadata": {},
     "output_type": "execute_result"
    }
   ],
   "source": [
    "dash_visits.head(5) "
   ]
  },
  {
   "cell_type": "code",
   "execution_count": 6,
   "id": "b30b136b",
   "metadata": {
    "scrolled": true
   },
   "outputs": [
    {
     "name": "stdout",
     "output_type": "stream",
     "text": [
      "<class 'pandas.core.frame.DataFrame'>\n",
      "RangeIndex: 30745 entries, 0 to 30744\n",
      "Data columns (total 6 columns):\n",
      " #   Column        Non-Null Count  Dtype         \n",
      "---  ------        --------------  -----         \n",
      " 0   record_id     30745 non-null  int64         \n",
      " 1   item_topic    30745 non-null  object        \n",
      " 2   source_topic  30745 non-null  object        \n",
      " 3   age_segment   30745 non-null  object        \n",
      " 4   dt            30745 non-null  datetime64[ns]\n",
      " 5   visits        30745 non-null  int64         \n",
      "dtypes: datetime64[ns](1), int64(2), object(3)\n",
      "memory usage: 1.4+ MB\n",
      "None\n"
     ]
    }
   ],
   "source": [
    "# проверка датафрейма\n",
    "print(dash_visits.info())"
   ]
  },
  {
   "cell_type": "code",
   "execution_count": 7,
   "id": "470bd86b",
   "metadata": {},
   "outputs": [
    {
     "name": "stdout",
     "output_type": "stream",
     "text": [
      "          record_id        visits\n",
      "count  3.074500e+04  30745.000000\n",
      "mean   1.055969e+06     10.089673\n",
      "std    8.875461e+03     19.727601\n",
      "min    1.040597e+06      1.000000\n",
      "25%    1.048283e+06      1.000000\n",
      "50%    1.055969e+06      3.000000\n",
      "75%    1.063655e+06     10.000000\n",
      "max    1.071341e+06    371.000000\n"
     ]
    }
   ],
   "source": [
    "print(dash_visits.describe())"
   ]
  },
  {
   "cell_type": "code",
   "execution_count": 8,
   "id": "ed28691b",
   "metadata": {},
   "outputs": [
    {
     "name": "stdout",
     "output_type": "stream",
     "text": [
      "Явных дубликатов: 0\n"
     ]
    }
   ],
   "source": [
    "# проверка на явные дубликаты\n",
    "print('Явных дубликатов:', dash_visits.duplicated().sum())"
   ]
  },
  {
   "cell_type": "code",
   "execution_count": 27,
   "id": "e8c69886",
   "metadata": {
    "scrolled": true
   },
   "outputs": [
    {
     "data": {
      "text/plain": [
       "item_topic\n",
       "Наука                 21736\n",
       "Отношения             20666\n",
       "Интересные факты      19942\n",
       "Общество              19640\n",
       "Подборки              17772\n",
       "Россия                16966\n",
       "Полезные советы       15435\n",
       "История               15389\n",
       "Семья                 11897\n",
       "Женщины               11499\n",
       "Дети                  10989\n",
       "Рассказы              10909\n",
       "Здоровье              10399\n",
       "Деньги                10291\n",
       "Культура              10205\n",
       "Красота                9814\n",
       "Туризм                 9512\n",
       "Юмор                   9398\n",
       "Скандалы               9294\n",
       "Путешествия            9260\n",
       "Искусство              8516\n",
       "Психология             8036\n",
       "Женская психология     7737\n",
       "Шоу                    7511\n",
       "Знаменитости           7394\n",
       "Name: visits, dtype: int64"
      ]
     },
     "execution_count": 27,
     "metadata": {},
     "output_type": "execute_result"
    }
   ],
   "source": [
    "# самые популярные карточки по событиям\n",
    "test1 = dash_visits.groupby(by = 'item_topic')['visits'].sum()\n",
    "test1.sort_values(ascending=False)"
   ]
  },
  {
   "cell_type": "code",
   "execution_count": 28,
   "id": "8b2c12d9",
   "metadata": {},
   "outputs": [
    {
     "data": {
      "text/plain": [
       "310207"
      ]
     },
     "execution_count": 28,
     "metadata": {},
     "output_type": "execute_result"
    }
   ],
   "source": [
    "test1.sum()"
   ]
  },
  {
   "cell_type": "code",
   "execution_count": 9,
   "id": "dca13773",
   "metadata": {},
   "outputs": [
    {
     "data": {
      "text/plain": [
       "Отношения             1536\n",
       "Интересные факты      1535\n",
       "Наука                 1505\n",
       "Подборки              1456\n",
       "Полезные советы       1424\n",
       "Общество              1422\n",
       "Россия                1385\n",
       "История               1363\n",
       "Семья                 1287\n",
       "Путешествия           1247\n",
       "Деньги                1234\n",
       "Женщины               1230\n",
       "Дети                  1229\n",
       "Туризм                1206\n",
       "Здоровье              1203\n",
       "Красота               1193\n",
       "Культура              1160\n",
       "Юмор                  1129\n",
       "Искусство             1119\n",
       "Рассказы              1109\n",
       "Психология            1056\n",
       "Скандалы              1023\n",
       "Знаменитости           976\n",
       "Женская психология     914\n",
       "Шоу                    804\n",
       "Name: item_topic, dtype: int64"
      ]
     },
     "execution_count": 9,
     "metadata": {},
     "output_type": "execute_result"
    }
   ],
   "source": [
    "# Типы карточек\n",
    "dash_visits['item_topic'].value_counts()"
   ]
  },
  {
   "cell_type": "code",
   "execution_count": 10,
   "id": "2b11aa9a",
   "metadata": {},
   "outputs": [
    {
     "data": {
      "text/plain": [
       "Семейные отношения    1822\n",
       "Россия                1687\n",
       "Знаменитости          1650\n",
       "Полезные советы       1578\n",
       "Путешествия           1563\n",
       "Кино                  1505\n",
       "Дети                  1459\n",
       "История               1437\n",
       "Семья                 1405\n",
       "Одежда                1379\n",
       "Здоровье              1243\n",
       "Искусство             1228\n",
       "Авто                  1077\n",
       "Психология            1055\n",
       "Сад и дача            1036\n",
       "Политика              1024\n",
       "Спорт                 1007\n",
       "Сделай сам             995\n",
       "Ремонт                 985\n",
       "Деньги                 973\n",
       "Еда                    912\n",
       "Интерьеры              809\n",
       "Строительство          758\n",
       "Музыка                 750\n",
       "Технологии             741\n",
       "Финансы                667\n",
       "Name: source_topic, dtype: int64"
      ]
     },
     "execution_count": 10,
     "metadata": {},
     "output_type": "execute_result"
    }
   ],
   "source": [
    "# Темы источников\n",
    "dash_visits['source_topic'].value_counts()"
   ]
  },
  {
   "cell_type": "code",
   "execution_count": 16,
   "id": "dc840464",
   "metadata": {},
   "outputs": [
    {
     "data": {
      "text/plain": [
       "18-25    7056\n",
       "26-30    5875\n",
       "31-35    5552\n",
       "36-40    5105\n",
       "41-45    3903\n",
       "45+      3254\n",
       "Name: age_segment, dtype: int64"
      ]
     },
     "execution_count": 16,
     "metadata": {},
     "output_type": "execute_result"
    }
   ],
   "source": [
    "# возрастные группы\n",
    "dash_visits['age_segment'].value_counts()"
   ]
  },
  {
   "cell_type": "code",
   "execution_count": 12,
   "id": "4248b329",
   "metadata": {},
   "outputs": [
    {
     "name": "stdout",
     "output_type": "stream",
     "text": [
      "2019-09-24 18:28:00 || 2019-09-24 19:00:00\n"
     ]
    }
   ],
   "source": [
    "# период\n",
    "print(dash_visits['dt'].min(), '||', dash_visits['dt'].max())"
   ]
  },
  {
   "cell_type": "code",
   "execution_count": 13,
   "id": "27f54ecc",
   "metadata": {},
   "outputs": [],
   "source": [
    "# преобразование в csv\n",
    "dash_visits.to_csv('dash_visits.csv', index = False)"
   ]
  },
  {
   "cell_type": "markdown",
   "id": "8d574ce8",
   "metadata": {},
   "source": [
    "Дашборд:\n",
    "\n",
    "https://public.tableau.com/app/profile/dm.grig/viz/sptint16au/Result"
   ]
  },
  {
   "cell_type": "markdown",
   "id": "9879615d",
   "metadata": {},
   "source": [
    "Презентация:\n",
    "\n",
    "https://disk.yandex.ru/d/eg-QgZ52RrVlLg"
   ]
  },
  {
   "cell_type": "markdown",
   "id": "6266c4f4",
   "metadata": {},
   "source": [
    "## Общий вывод:\n",
    "\n",
    "\n",
    "В ходе аналитической работы получен датафрейм, содержащий 30745 записей по 5 столбцам, что соотутветсвует заданию.  Дубликаты и пропуски отсутствуют.\n",
    "\n",
    "Построив дашборд мы можем отметить следующие посещения карточек:\n",
    "\n",
    "На самый пик событий в 18.58 приходится суммарно 61.247 посещений.\n",
    "\n",
    "*Топ-3 наиболее популярных тем карточек:*\n",
    "\n",
    "    Наука (4372 посещения в пик, 21736 всего за весь период) \n",
    "    Отношения (4145 посещений в пик, 20666 всего за весь период)\n",
    "    Интересные факты (3910 посещений в пик, 19942 всего за весь период)\n",
    "    \n",
    "\n",
    "*По теме источников генерируют следующие количества посещенений:*\n",
    "\n",
    "Топ-3 наиболее популярных тем источников:\n",
    "\n",
    "    Семейные отношения (10.7% переходов)\n",
    "    Россия (9.6% переходов)\n",
    "    Полезные советы (8.8% переходов)\n",
    "    \n",
    "*Топ-5 наиболее популярных связок «источник - тема карточки»:*\n",
    "\n",
    "    Путешествия - Рассказы (4.587 переходов)\n",
    "    Россия - Общество (3.471 переходов)\n",
    "    Кино - Наука (3.279 переходов)\n",
    "    \n"
   ]
  },
  {
   "cell_type": "code",
   "execution_count": null,
   "id": "db2ee160",
   "metadata": {},
   "outputs": [],
   "source": []
  }
 ],
 "metadata": {
  "kernelspec": {
   "display_name": "Python 3 (ipykernel)",
   "language": "python",
   "name": "python3"
  },
  "language_info": {
   "codemirror_mode": {
    "name": "ipython",
    "version": 3
   },
   "file_extension": ".py",
   "mimetype": "text/x-python",
   "name": "python",
   "nbconvert_exporter": "python",
   "pygments_lexer": "ipython3",
   "version": "3.9.13"
  }
 },
 "nbformat": 4,
 "nbformat_minor": 5
}
